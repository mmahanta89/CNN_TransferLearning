{
 "cells": [
  {
   "cell_type": "code",
   "execution_count": null,
   "metadata": {},
   "outputs": [],
   "source": [
    "import tkinter as tk\n",
    "from PIL import ImageTk, Image\n",
    "from tkinter import filedialog\n",
    "import numpy as np\n",
    "import tensorflow\n",
    "from tensorflow.keras.preprocessing.image import img_to_array\n",
    "from sklearn.externals import joblib"
   ]
  },
  {
   "cell_type": "code",
   "execution_count": null,
   "metadata": {},
   "outputs": [],
   "source": [
    "#Function to browse and display image\n",
    "def load_img():\n",
    "    global img, image_data\n",
    "    \n",
    "    #clearing up existing traces of images if any\n",
    "    for img_display in frame.winfo_children():\n",
    "        img_display.destroy()\n",
    "    \n",
    "    #Opening windows file neavigator for selection of file\n",
    "    image_data = filedialog.askopenfilename(initialdir=\"/\", title=\"Choose an image\",\n",
    "                                       filetypes=((\"all files\", \"*.*\"), (\"jpg files\", \"*.jpg\"), (\"png files\", \"*.png\")))\n",
    "    basewidth = 150 \n",
    "    \n",
    "    #For displaying image & image name in canvas\n",
    "    img = Image.open(image_data)\n",
    "    wpercent = (basewidth / float(img.size[0]))\n",
    "    hsize = int((float(img.size[1]) * float(wpercent)))\n",
    "    img = img.resize((basewidth, hsize), Image.ANTIALIAS)\n",
    "    img = ImageTk.PhotoImage(img)\n",
    "    file_name = image_data.split('/')\n",
    "    panel = tk.Label(frame, text= str(file_name[len(file_name)-1]).upper()).pack()\n",
    "    panel_image = tk.Label(frame, image=img).pack()"
   ]
  },
  {
   "cell_type": "code",
   "execution_count": null,
   "metadata": {},
   "outputs": [],
   "source": [
    "#function to use the pickeled model and one hot encoder transformer to predict and display the class\n",
    "def classify():\n",
    "    #Pre-processing image for calssification as we did during model prep\n",
    "    original = Image.open(image_data)\n",
    "    original = original.resize((100, 100), Image.ANTIALIAS)\n",
    "    numpy_image = img_to_array(original)\n",
    "    \n",
    "    #expanding dimensions as model is expecting a array of image not just a single image\n",
    "    image_batch = np.expand_dims(numpy_image, axis=0)\n",
    "    processed_image=image_batch/255\n",
    "    \n",
    "    #Using the pickeled model for classification\n",
    "    predictions = vgg_cnn_model.predict(processed_image)\n",
    "    \n",
    "    #inverse transforming the prediction for folder name details\n",
    "    label = ohe_pkl.inverse_transform(predictions.reshape(1,-1))\n",
    "    table = tk.Label(frame, text=\"Image Predicted Class\").pack()\n",
    "    \n",
    "    #printing result\n",
    "    result = tk.Label(frame, text=str(label)).pack()"
   ]
  },
  {
   "cell_type": "code",
   "execution_count": null,
   "metadata": {},
   "outputs": [],
   "source": [
    "#Gracefull quiting the mainloop and destroy all descendent widgets (This will end the application of this Tcl interpreter.)\n",
    "def exit_box():\n",
    "    root.quit()\n",
    "    root.destroy()\n",
    "    #exit()"
   ]
  },
  {
   "cell_type": "code",
   "execution_count": null,
   "metadata": {},
   "outputs": [],
   "source": [
    "root = tk.Tk()\n",
    "root.title('Image Classifier')\n",
    "root.resizable(True, True)\n",
    "tit = tk.Label(root, text=\"Image Classifier\", padx=25, pady=6, font=(\"\", 12)).pack()\n",
    "canvas = tk.Canvas(root, height=300, width=100, bg='grey')\n",
    "canvas.pack()\n",
    "frame = tk.Frame(root, bg='white')\n",
    "frame.place(relwidth=0.8, relheight=0.8, relx=0.1, rely=0.1)\n",
    "\n",
    "#calling load_img on below button\n",
    "chose_image = tk.Button(root, text='Choose Image',\n",
    "                        padx=35, pady=10,\n",
    "                        fg=\"white\", bg=\"grey\", command=load_img)\n",
    "chose_image.pack(side=tk.LEFT)\n",
    "\n",
    "#calling classify function o below button\n",
    "class_image = tk.Button(root, text='Classify Image',\n",
    "                        padx=35, pady=10,\n",
    "                        fg=\"white\", bg=\"grey\", command=classify)\n",
    "class_image.pack(side=tk.RIGHT)\n",
    "\n",
    "#calling exit function\n",
    "exit_image = tk.Button(root, text='Exit',\n",
    "                        padx=35, pady=10,\n",
    "                        fg=\"white\", bg=\"grey\", command=exit_box)\n",
    "exit_image.pack(side=tk.RIGHT)\n",
    "\n",
    "#Loading Pickled Model , we could have used Keras approach as well but we are going ahead with Pickle for now\n",
    "vgg_cnn_model =joblib.load('./Flower_Species_Classifier_VGG16_Augmented_100.pkl')\n",
    "\n",
    "#Loading pickeled encoder for reverse transforming output\n",
    "ohe_pkl=joblib.load('./VGG16_CNN_ohe.pkl')\n",
    "\n",
    "        \n",
    "root.mainloop()"
   ]
  },
  {
   "cell_type": "code",
   "execution_count": null,
   "metadata": {},
   "outputs": [],
   "source": []
  }
 ],
 "metadata": {
  "kernelspec": {
   "display_name": "Python 3",
   "language": "python",
   "name": "python3"
  },
  "language_info": {
   "codemirror_mode": {
    "name": "ipython",
    "version": 3
   },
   "file_extension": ".py",
   "mimetype": "text/x-python",
   "name": "python",
   "nbconvert_exporter": "python",
   "pygments_lexer": "ipython3",
   "version": "3.7.7"
  }
 },
 "nbformat": 4,
 "nbformat_minor": 4
}
